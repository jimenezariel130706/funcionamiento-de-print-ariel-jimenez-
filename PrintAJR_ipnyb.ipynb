{
  "nbformat": 4,
  "nbformat_minor": 0,
  "metadata": {
    "colab": {
      "provenance": [],
      "authorship_tag": "ABX9TyMKvSFSTG+d2lmWJuaHvJmX",
      "include_colab_link": true
    },
    "kernelspec": {
      "name": "python3",
      "display_name": "Python 3"
    },
    "language_info": {
      "name": "python"
    }
  },
  "cells": [
    {
      "cell_type": "markdown",
      "metadata": {
        "id": "view-in-github",
        "colab_type": "text"
      },
      "source": [
        "<a href=\"https://colab.research.google.com/github/jimenezariel130706/funcionamiento-de-print-ariel-jimenez-/blob/main/PrintAJR_ipnyb.ipynb\" target=\"_parent\"><img src=\"https://colab.research.google.com/assets/colab-badge.svg\" alt=\"Open In Colab\"/></a>"
      ]
    },
    {
      "cell_type": "code",
      "execution_count": null,
      "metadata": {
        "id": "E7Z6OVOyLOzN"
      },
      "outputs": [],
      "source": []
    },
    {
      "cell_type": "markdown",
      "source": [
        "Hola mi nombre es Ariel Jimenez y el dia de hoy aprenderemos a utilizar el coando print.\n",
        "El comando print es una funcion que se utiliza para generar texto o valores en la pantalla. Es una de las formas mas basicas de mostrar informacion de un programa.\n",
        "¿Como utilizar el comando print?\n",
        "Para utilizarlo debemos escribir la palabra print seguido de el texto dentro de comillas y parentesis\n",
        "print(\"hola\")\n",
        "ejemplo:"
      ],
      "metadata": {
        "id": "hcrEVeCRLdQH"
      }
    },
    {
      "cell_type": "code",
      "source": [
        "print(\"Primer ejemplo\")\n"
      ],
      "metadata": {
        "colab": {
          "base_uri": "https://localhost:8080/"
        },
        "id": "4jTF9TayNzx4",
        "outputId": "3848881f-b811-4040-95e6-7b7d285049cd"
      },
      "execution_count": 1,
      "outputs": [
        {
          "output_type": "stream",
          "name": "stdout",
          "text": [
            "Primer ejemplo\n"
          ]
        }
      ]
    },
    {
      "cell_type": "markdown",
      "source": [
        "Debemos utilizar  todos los elementos del comando adecuadamente o de otro modo este no funcionara y nos marcara error. Podemos imprimir texto, numeros, variables, expresiones matematicas, etc."
      ],
      "metadata": {
        "id": "f1mrbxI8OADT"
      }
    },
    {
      "cell_type": "code",
      "source": [
        "print(2 + 3)\n"
      ],
      "metadata": {
        "colab": {
          "base_uri": "https://localhost:8080/"
        },
        "id": "MrV5-j_5O0uD",
        "outputId": "34688084-7957-47ce-c721-645ad0e0afb5"
      },
      "execution_count": 2,
      "outputs": [
        {
          "output_type": "stream",
          "name": "stdout",
          "text": [
            "5\n"
          ]
        }
      ]
    },
    {
      "cell_type": "markdown",
      "source": [
        "En este ultimo ejemplo usamos otra funcionalidad que es la suma y nos imprime el resultado de esta"
      ],
      "metadata": {
        "id": "JyJ2yBIZPKLo"
      }
    },
    {
      "cell_type": "code",
      "source": [
        "print(\"Esto ha sido todo\")"
      ],
      "metadata": {
        "colab": {
          "base_uri": "https://localhost:8080/"
        },
        "id": "BZhpN__RPfXy",
        "outputId": "803de358-2bd7-47de-c29e-dc247e043cc6"
      },
      "execution_count": 6,
      "outputs": [
        {
          "output_type": "stream",
          "name": "stdout",
          "text": [
            "Esto ha sido todo\n"
          ]
        }
      ]
    },
    {
      "cell_type": "markdown",
      "source": [
        "Gracias por su atencion."
      ],
      "metadata": {
        "id": "kZCZ1Dm_QM9o"
      }
    }
  ]
}